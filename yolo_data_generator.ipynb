{
 "cells": [
  {
   "cell_type": "markdown",
   "metadata": {},
   "source": [
    "# Create Dateset for Yolo Training"
   ]
  },
  {
   "cell_type": "markdown",
   "metadata": {},
   "source": [
    "#### Convert coco jason format to yolo format "
   ]
  },
  {
   "cell_type": "code",
   "execution_count": 10,
   "metadata": {},
   "outputs": [
    {
     "name": "stderr",
     "output_type": "stream",
     "text": [
      "\r",
      "Annotations ./annotations\\labels.json:   0%|                                                                                                     | 0/16772 [00:00<?, ?it/s]"
     ]
    },
    {
     "name": "stdout",
     "output_type": "stream",
     "text": [
      "['./annotations\\\\labels.json']\n"
     ]
    },
    {
     "name": "stderr",
     "output_type": "stream",
     "text": [
      "Annotations ./annotations\\labels.json: 100%|█████████████████████████████████████████████████████████████████████████████████████████| 16772/16772 [02:51<00:00, 97.63it/s]\n"
     ]
    }
   ],
   "source": [
    "import json\n",
    "import os\n",
    "import numpy as np\n",
    "import pandas as pd\n",
    "import cv2\n",
    "from PIL import Image\n",
    "import glob\n",
    "\n",
    "import shutil\n",
    "from pathlib import Path\n",
    "\n",
    "import numpy as np\n",
    "from PIL import ExifTags\n",
    "from tqdm import tqdm\n",
    "\n",
    "def make_dirs(dir='labels/'):\n",
    "    # Create folders\n",
    "    dir = Path(dir)\n",
    "    if dir.exists():\n",
    "        shutil.rmtree(dir)  # delete dir\n",
    "    dir.mkdir(parents=True, exist_ok=True)  # make dir\n",
    "    return dir\n",
    "\n",
    "def yolo_class(): \n",
    "    x = [0, 1]\n",
    "    return x\n",
    "\n",
    "\n",
    "def convert_coco_json(json_dir='./annotations/', use_segments=False):\n",
    "    save_dir = make_dirs()  # output directory\n",
    "    jsons = glob.glob(json_dir + '*.json')\n",
    "    print(jsons)\n",
    "    coco2 = yolo_class()\n",
    "\n",
    "    # Import json\n",
    "    for json_file in sorted(jsons):\n",
    "        #fn = Path(save_dir) / 'labels' / Path(json_file).stem.replace('instances_', '')  # folder name\n",
    "        fn = Path(save_dir)/ Path(json_file).stem.replace('instances_', '')\n",
    "        fn.mkdir()\n",
    "        with open(json_file) as f:\n",
    "            data = json.load(f)\n",
    "\n",
    "        # Create image dict\n",
    "        images = {'%g' % x['id']: x for x in data['images']}\n",
    "\n",
    "        # Write labels file\n",
    "        for x in tqdm(data['annotations'], desc='Annotations %s' % json_file):\n",
    "            if x['iscrowd']:\n",
    "                continue\n",
    "\n",
    "            img = images['%g' % x['image_id']]\n",
    "            h, w, f = img['height'], img['width'], img['file_name']\n",
    "\n",
    "            # The COCO box format is [top left x, top left y, width, height]\n",
    "            box = np.array(x['bbox'], dtype=np.float64)\n",
    "            box[:2] += box[2:] / 2  # xy top-left corner to center\n",
    "            box[[0, 2]] /= w  # normalize x\n",
    "            box[[1, 3]] /= h  # normalize y\n",
    "\n",
    "            # Segments\n",
    "            segments = [j for i in x['segmentation'] for j in i]  # all segments concatenated\n",
    "            s = (np.array(segments).reshape(-1, 2) / np.array([w, h])).reshape(-1).tolist()\n",
    "\n",
    "            # Write\n",
    "            if box[2] > 0 and box[3] > 0:  # if w > 0 and h > 0\n",
    "                line = coco2[x['category_id'] - 1], *(s if use_segments else box)  # cls, box or segments\n",
    "                with open((fn / f).with_suffix('.txt'), 'a') as file:\n",
    "                    file.write(('%g ' * len(line)).rstrip() % line + '\\n')\n",
    "\n",
    "\n",
    "if __name__ == '__main__':\n",
    "    convert_coco_json('./annotations/')\n",
    "\n"
   ]
  },
  {
   "cell_type": "markdown",
   "metadata": {},
   "source": [
    "#### Generate Train, Validation and Test  files"
   ]
  },
  {
   "cell_type": "code",
   "execution_count": null,
   "metadata": {},
   "outputs": [],
   "source": [
    "img_list = os.listdir('./images/')"
   ]
  },
  {
   "cell_type": "code",
   "execution_count": null,
   "metadata": {},
   "outputs": [],
   "source": [
    "df = pd.DataFrame(img_list)"
   ]
  },
  {
   "cell_type": "code",
   "execution_count": null,
   "metadata": {},
   "outputs": [],
   "source": [
    "train, validate, test = np.split(df.sample(frac=1, random_state=42), [int(.8*len(df)), int(.9*len(df))])"
   ]
  },
  {
   "cell_type": "code",
   "execution_count": null,
   "metadata": {},
   "outputs": [],
   "source": [
    "file_train = open('train.txt', 'w+')  \n",
    "for f in train.values:\n",
    "    file_train.write('/data/images/' + f[0] + '\\n')\n",
    "file_train.close()\n"
   ]
  },
  {
   "cell_type": "code",
   "execution_count": null,
   "metadata": {},
   "outputs": [],
   "source": [
    "file_test = open('test.txt', 'w+')\n",
    "for f in test.values:\n",
    "    file_test.write('/data/images/' + f[0] + '\\n')\n",
    "file_test.close()"
   ]
  },
  {
   "cell_type": "code",
   "execution_count": null,
   "metadata": {},
   "outputs": [],
   "source": [
    "file_val = open('val.txt', 'w+')\n",
    "for f in validate.values:\n",
    "    file_val.write('/data/images/' + f[0] + '\\n')\n",
    "file_val.close()\n"
   ]
  },
  {
   "cell_type": "code",
   "execution_count": null,
   "metadata": {},
   "outputs": [],
   "source": [
    "def write_data_file(fname='eagleview.data', nc=2):\n",
    "    # write darknet *.data file\n",
    "    lines = ['classes = %g\\n' % nc,\n",
    "             'train =./train.txt\\n',\n",
    "             'valid =./val.txt\\n',\n",
    "             'test  = ./test.txt\\n',\n",
    "             'names =./eagleview.names\\n',\n",
    "             'backup = ./backup\\n',\n",
    "             'results = ./results\\n']\n",
    "\n",
    "    with open(fname, 'a') as f:\n",
    "        f.writelines(lines)\n",
    "data_file = write_data_file()"
   ]
  },
  {
   "cell_type": "markdown",
   "metadata": {},
   "source": [
    "#### Visual Boxes"
   ]
  },
  {
   "cell_type": "code",
   "execution_count": null,
   "metadata": {},
   "outputs": [],
   "source": [
    "import cv2\n",
    "import os\n",
    "import glob\n",
    "import numpy\n",
    "def drawGT(frame, classId, left, top, right, bottom):\n",
    "    # Draw a bounding box.\n",
    "    frame_gt = frame\n",
    "    cv2.rectangle(frame_gt, (left, top), (right, bottom), (255, 178, 50), 3)\n",
    "    \n",
    "    #label = '%.2f' % conf\n",
    "        \n",
    "    # Get the label for the class name and its confidence\n",
    "    #if classes:\n",
    "    #   assert(classId < len(classes))\n",
    "    label = '%s' % (classId) #comment out if you have a class_lists.txt with class names in it \n",
    "    #label = '%s' % (obj_list[classId]) #uncomment if you have a class_lists.txt with class names in it\n",
    "\n",
    "    #Display the label at the top of the bounding box\n",
    "    labelSize, baseLine = cv2.getTextSize(label, cv2.FONT_HERSHEY_SIMPLEX, 0.5, 1)\n",
    "    top = max(top, labelSize[1])\n",
    "    frame_gt = cv2.rectangle(frame_gt, (left, int(top - round(1.5*labelSize[1]))), (left + int(round(1.5*labelSize[0])), top + baseLine), (255, 255, 255), cv2.FILLED)\n",
    "    frame_gt = cv2.putText(frame_gt, label, (left, top), cv2.FONT_HERSHEY_SIMPLEX, 0.75, (0,0,0), 1)\n",
    "    return frame_gt\n",
    "\n",
    "def convert_yolo_coordinates_to_bbox(x_c_n, y_c_n, width_n, height_n, img_width, img_height):\n",
    "    ## remove normalization given the size of the image\n",
    "    x_c = float(x_c_n) * img_width\n",
    "    y_c = float(y_c_n) * img_height\n",
    "    width = float(width_n) * img_width\n",
    "    height = float(height_n) * img_height\n",
    "    ## compute half width and half height\n",
    "    half_width = width / 2\n",
    "    half_height = height / 2\n",
    "    ## compute left, top, right, bottom\n",
    "    left = int(x_c - half_width) + 1\n",
    "    top = int(y_c - half_height) + 1\n",
    "    right = int(x_c + half_width) + 1\n",
    "    bottom = int(y_c + half_height) + 1\n",
    "    return left, top, right, bottom"
   ]
  },
  {
   "cell_type": "code",
   "execution_count": null,
   "metadata": {},
   "outputs": [],
   "source": [
    "def main():\n",
    "    img_base = \"./images/\"\n",
    "    #os.chdir(img_base)\n",
    "    imgs = os.listdir(\"./images/\")\n",
    "    filenames = []\n",
    "    sl = slice(0,-4)\n",
    "    for img in imgs:\n",
    "        filenames.append(img[sl])\n",
    "\n",
    "    gt_base = \"./new_dir/labels/labels/\"\n",
    "    count = 0;\n",
    "    for name in filenames:\n",
    "        name = name.split('.')[0]\n",
    "        textfilename = name+\".txt\"\n",
    "        img_path = img_base+name+\".jpg\"\n",
    "        frame_orig = cv2.imread(img_path)\n",
    "        gt_path = gt_base + textfilename\n",
    "        img_height, img_width = frame_orig.shape[:2]\n",
    "        with open(gt_path, \"r\") as f_gt:\n",
    "            content_gt = f_gt.readlines()\n",
    "        content_gt = [x.strip() for x in content_gt]\n",
    "        for line in content_gt:\n",
    "            obj_id, x_c_n, y_c_n, width_n, height_n = line.split() \n",
    "            left, top, right, bottom = convert_yolo_coordinates_to_bbox(x_c_n, y_c_n, width_n, height_n, img_width, img_height) #Comment out if co-ordinates not in YOLO format\n",
    "            #obj_id, left, top, right, bottom = line.split() #Uncomment if absolute co-ordinates/VOC\n",
    "            image_gt = drawGT(frame_orig, obj_id, left, top, right, bottom)\n",
    "        gt_res_path = \"./ground-truth-BB/\"+name+\".jpg\"\n",
    "        cv2.imwrite(gt_res_path, image_gt)\n",
    "        count += 1;\n",
    "        print(str(count)+\"/\"+str(len(filenames))+\" done!\")\n",
    "    print(\"completed\")\n",
    "\n",
    "if __name__ == \"__main__\":\n",
    "    main()"
   ]
  },
  {
   "cell_type": "code",
   "execution_count": null,
   "metadata": {},
   "outputs": [],
   "source": []
  }
 ],
 "metadata": {
  "kernelspec": {
   "display_name": "Python 3",
   "language": "python",
   "name": "python3"
  },
  "language_info": {
   "codemirror_mode": {
    "name": "ipython",
    "version": 3
   },
   "file_extension": ".py",
   "mimetype": "text/x-python",
   "name": "python",
   "nbconvert_exporter": "python",
   "pygments_lexer": "ipython3",
   "version": "3.8.5"
  }
 },
 "nbformat": 4,
 "nbformat_minor": 4
}
